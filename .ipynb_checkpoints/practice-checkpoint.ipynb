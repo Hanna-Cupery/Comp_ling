{
 "cells": [
  {
   "cell_type": "code",
   "execution_count": 1,
   "id": "96c3082f",
   "metadata": {},
   "outputs": [],
   "source": [
    "from string import punctuation\n",
    "from razdel import sentenize\n",
    "from razdel import tokenize as razdel_tokenize\n",
    "import numpy as np\n",
    "from IPython.display import Image\n",
    "from IPython.core.display import HTML"
   ]
  },
  {
   "cell_type": "code",
   "execution_count": 2,
   "id": "8d6c1a37",
   "metadata": {},
   "outputs": [],
   "source": [
    "dvach = open('2ch_corpus.txt', encoding='utf-8').read()\n",
    "news = open('lenta.txt', encoding='utf-8').read()"
   ]
  },
  {
   "cell_type": "code",
   "execution_count": 3,
   "id": "f2b1059a",
   "metadata": {},
   "outputs": [
    {
     "name": "stdout",
     "output_type": "stream",
     "text": [
      "Длина 1 - 11638405\n",
      "Длина 2 - 11536552\n"
     ]
    }
   ],
   "source": [
    "print('Длина 1 -', len(dvach))\n",
    "print(\"Длина 2 -\", len(news))"
   ]
  },
  {
   "cell_type": "code",
   "execution_count": 4,
   "id": "03a28b90",
   "metadata": {},
   "outputs": [],
   "source": [
    "def normalize(text):\n",
    "    normalized_text = [word.text.strip(punctuation) for word \\\n",
    "                                                            in razdel_tokenize(text)]\n",
    "    normalized_text = [word.lower() for word in normalized_text if \n",
    "                      word and len(word) <20]\n",
    "    return normalized_text"
   ]
  },
  {
   "cell_type": "code",
   "execution_count": 5,
   "id": "d89043ba",
   "metadata": {},
   "outputs": [],
   "source": [
    "norm_dvach = normalize(dvach)\n",
    "norm_news = normalize(news)"
   ]
  },
  {
   "cell_type": "code",
   "execution_count": 6,
   "id": "d5b0912c",
   "metadata": {},
   "outputs": [],
   "source": [
    "from collections import Counter"
   ]
  },
  {
   "cell_type": "code",
   "execution_count": 7,
   "id": "dd471adf",
   "metadata": {},
   "outputs": [],
   "source": [
    "vocab_dvach = Counter(norm_dvach)\n",
    "vocab_news = Counter(norm_news)"
   ]
  },
  {
   "cell_type": "code",
   "execution_count": 8,
   "id": "a00ff5c0",
   "metadata": {},
   "outputs": [
    {
     "data": {
      "text/plain": [
       "[('и', 55892),\n",
       " ('в', 48853),\n",
       " ('не', 46602),\n",
       " ('на', 29660),\n",
       " ('что', 26668),\n",
       " ('я', 21734),\n",
       " ('а', 21310),\n",
       " ('с', 21080),\n",
       " ('это', 17727),\n",
       " ('ты', 15469),\n",
       " ('как', 14653),\n",
       " ('у', 12731),\n",
       " ('но', 10756),\n",
       " ('так', 10007),\n",
       " ('по', 9408),\n",
       " ('то', 9387),\n",
       " ('все', 8651),\n",
       " ('за', 8521),\n",
       " ('же', 7861),\n",
       " ('если', 7825)]"
      ]
     },
     "execution_count": 8,
     "metadata": {},
     "output_type": "execute_result"
    }
   ],
   "source": [
    "vocab_dvach.most_common(20)"
   ]
  },
  {
   "cell_type": "code",
   "execution_count": 9,
   "id": "666f9e17",
   "metadata": {},
   "outputs": [
    {
     "data": {
      "text/plain": [
       "[('в', 72412),\n",
       " ('и', 33290),\n",
       " ('на', 28434),\n",
       " ('по', 19490),\n",
       " ('что', 17031),\n",
       " ('с', 15921),\n",
       " ('не', 12702),\n",
       " ('из', 7727),\n",
       " ('о', 7515),\n",
       " ('как', 7514),\n",
       " ('к', 6131),\n",
       " ('за', 6042),\n",
       " ('россии', 5534),\n",
       " ('для', 5008),\n",
       " ('его', 4909),\n",
       " ('он', 4774),\n",
       " ('от', 4618),\n",
       " ('сообщает', 4593),\n",
       " ('а', 4394),\n",
       " ('также', 4090)]"
      ]
     },
     "execution_count": 9,
     "metadata": {},
     "output_type": "execute_result"
    }
   ],
   "source": [
    "vocab_news.most_common(20)"
   ]
  },
  {
   "cell_type": "code",
   "execution_count": 10,
   "id": "aeb44b33",
   "metadata": {},
   "outputs": [
    {
     "data": {
      "text/plain": [
       "[('и', 0.030066580918921042),\n",
       " ('в', 0.02628001641794979),\n",
       " ('не', 0.02506911192985684),\n",
       " ('на', 0.015955320798239428),\n",
       " ('что', 0.014345802260534357),\n",
       " ('я', 0.011691602907246653),\n",
       " ('а', 0.011463516055646737),\n",
       " ('с', 0.011339789697467536),\n",
       " ('это', 0.009536074571489897),\n",
       " ('ты', 0.008321404498582796),\n",
       " ('как', 0.007882444897390503),\n",
       " ('у', 0.006848522895562581),\n",
       " ('но', 0.005786090037284669),\n",
       " ('так', 0.005383172462170666),\n",
       " ('по', 0.005060945990217011),\n",
       " ('то', 0.005049649235774562),\n",
       " ('все', 0.0046537248896011225),\n",
       " ('за', 0.004583792600195488),\n",
       " ('же', 0.004228751746289958),\n",
       " ('если', 0.004209385881531474)]"
      ]
     },
     "execution_count": 10,
     "metadata": {},
     "output_type": "execute_result"
    }
   ],
   "source": [
    "probas_dvach = Counter({word:c/len(norm_dvach) for word, c in vocab_dvach.items()})\n",
    "probas_dvach.most_common(20)"
   ]
  },
  {
   "cell_type": "code",
   "execution_count": 11,
   "id": "a38d6ecc",
   "metadata": {},
   "outputs": [],
   "source": [
    "probas_news = Counter({word:c/len(norm_news) for word, c in vocab_news.items()})"
   ]
  },
  {
   "cell_type": "code",
   "execution_count": 12,
   "id": "24d32ac7",
   "metadata": {},
   "outputs": [
    {
     "data": {
      "text/plain": [
       "[('в', 0.04808907489694771),\n",
       " ('и', 0.0221080111489724),\n",
       " ('на', 0.018883123731146926),\n",
       " ('по', 0.012943380513471676),\n",
       " ('что', 0.011310349590812525),\n",
       " ('с', 0.01057319451795703),\n",
       " ('не', 0.008435444806676101),\n",
       " ('из', 0.005131529052211166),\n",
       " ('о', 0.00499073907433246),\n",
       " ('как', 0.0049900749706632205),\n",
       " ('к', 0.00407161959610543),\n",
       " ('за', 0.0040125143695431435),\n",
       " ('россии', 0.0036751497055696383),\n",
       " ('для', 0.003325831175549828),\n",
       " ('его', 0.003260084912295149),\n",
       " ('он', 0.0031704309169478593),\n",
       " ('от', 0.003066830744546547),\n",
       " ('сообщает', 0.003050228152815567),\n",
       " ('а', 0.0029180715226369697),\n",
       " ('также', 0.002716184007188258)]"
      ]
     },
     "execution_count": 12,
     "metadata": {},
     "output_type": "execute_result"
    }
   ],
   "source": [
    "probas_news.most_common(20)"
   ]
  },
  {
   "cell_type": "code",
   "execution_count": 13,
   "id": "3326f2a5",
   "metadata": {},
   "outputs": [],
   "source": [
    "phrase = 'Технические возможности устаревшего российского судна не позволили разгрузить его у терминала'\n",
    "norm_phrase = normalize(phrase)\n",
    "prob = Counter({'news':0, 'dvach':0})\n",
    "for word in norm_phrase:\n",
    "    if word in probas_dvach:\n",
    "        prob['dvach'] += (np.log(probas_dvach[word]))\n",
    "    else:\n",
    "        prob['dvach'] += (np.log(1/len(norm_dvach)))\n",
    "    if word in probas_news:\n",
    "        prob['news'] += (np.log(probas_news[word]))\n",
    "    else:\n",
    "        prob['news'] += (np.log(1/len(norm_news)))"
   ]
  },
  {
   "cell_type": "code",
   "execution_count": 14,
   "id": "e0aab4e7",
   "metadata": {},
   "outputs": [
    {
     "data": {
      "text/plain": [
       "(3.8958314050721132e-50, 4.573351371331133e-45)"
      ]
     },
     "execution_count": 14,
     "metadata": {},
     "output_type": "execute_result"
    }
   ],
   "source": [
    "np.exp(prob['dvach']), np.exp(prob['news'])"
   ]
  },
  {
   "cell_type": "code",
   "execution_count": 15,
   "id": "79451ed3",
   "metadata": {},
   "outputs": [],
   "source": [
    "from nltk.tokenize import sent_tokenize\n",
    "def ngrammer(tokens, n=2):\n",
    "    ngrams = []\n",
    "    for i in range(0, len(tokens)-n+1):\n",
    "        ngrams.append(' '.join(tokens[i:i+n]))\n",
    "    return ngrams\n"
   ]
  },
  {
   "cell_type": "code",
   "execution_count": 16,
   "id": "d0ce4750",
   "metadata": {},
   "outputs": [],
   "source": [
    "sentences_dvach = [['<start>']  + normalize(text) + ['<end>'] for text in sent_tokenize(dvach)]\n",
    "sentences_news = [['<start>'] + normalize(text) + ['<end>'] for text in sent_tokenize(news)]"
   ]
  },
  {
   "cell_type": "code",
   "execution_count": 17,
   "id": "ca617c10",
   "metadata": {},
   "outputs": [
    {
     "name": "stdout",
     "output_type": "stream",
     "text": [
      "[['<start>', 'анимублядский', 'webm-треддля', 'приличных', 'анимублядей', 'и', 'прочих', 'аутистов', '<end>']]\n"
     ]
    }
   ],
   "source": [
    "print(sentences_dvach[:1])"
   ]
  },
  {
   "cell_type": "code",
   "execution_count": 18,
   "id": "1dc0377f",
   "metadata": {},
   "outputs": [
    {
     "name": "stdout",
     "output_type": "stream",
     "text": [
      "77000\n",
      "77000\n"
     ]
    }
   ],
   "source": [
    "unigrams_dvach = Counter()\n",
    "bigrams_dvach = Counter()\n",
    "i = 0\n",
    "for sentence in sentences_dvach:\n",
    "    if i > 76344:\n",
    "        break\n",
    "    unigrams_dvach.update(sentence)\n",
    "    bigrams_dvach.update(ngrammer(sentence))\n",
    "    i +=7000\n",
    "print(i)\n",
    "unigrams_news = Counter()\n",
    "bigrams_news = Counter()\n",
    "j = 0\n",
    "for sentence in sentences_news:\n",
    "    if j > 76400:\n",
    "        break\n",
    "    unigrams_news.update(sentence)\n",
    "    bigrams_news.update(ngrammer(sentence))\n",
    "    j +=7000\n",
    "print(j)\n",
    "\n"
   ]
  },
  {
   "cell_type": "code",
   "execution_count": 19,
   "id": "716f0276",
   "metadata": {},
   "outputs": [
    {
     "name": "stdout",
     "output_type": "stream",
     "text": [
      "Counter({'<start>': 11, 'и': 11, '<end>': 11, 'в': 10, 'для': 8, 'webm': 5, 'на': 4, '—': 4, 'с': 3, 'видео': 3, 'ffmpeg': 3, 'это': 3, 'всех': 2, 'по': 2, 'его': 2, 'нужно': 2, 'firefox': 2, 'о': 2, 'vp': 2, 'opus': 2, 'звука': 2, 'при': 2, 'битрейта': 2, 'a': 2, 'работает': 2, 'качество': 2, 'vbr': 2, 'а': 2, 'не': 2, 'этого': 2, 'дотнет': 2, 'анимублядский': 1, 'webm-треддля': 1, 'приличных': 1, 'анимублядей': 1, 'прочих': 1, 'аутистов': 1, 'безграмотное': 1, 'быдло': 1, 'дубляжом': 1, 'войсовером': 1, 'порнографией': 1, 'котиками': 1, 'советы': 1, 'мерзких': 1, 'мокрописечников': 1, 'вниманиебляди': 1, 'видов': 1, 'прочее': 1, 'непотребство': 1, 'отправляется': 1, 'порнотред': 1, 'ссылка': 1, 'поиска': 1, 'o': 1, 'уса': 1, 'сохраняем': 1, 'кадр': 1, 'правый': 1, 'клик': 1, 'ищем': 1, 'воспроизведения': 1, '10-битным': 1, 'цветом': 1, 'установить': 1, 'плагин': 1, 'vlc': 1, 'отключить': 1, 'встроенный': 1, 'браузер': 1, 'плеер': 1, 'media': 1, 'enabled': 1, 'false': 1, 'кодировании': 1, 'доступные': 1, 'кодеки': 1, '8': 1, '9': 1, 'vorbis': 1, 'максимальный': 1, 'размер': 1, 'файла': 1, '10240': 1, 'кб': 1, 'файлов': 1, 'посте': 1, 'около': 1, '40': 1, 'мб': 1, 'делать': 1, 'можно': 1, 'научиться': 1, 'вики': 1, 'треда': 1, 'там': 1, 'находится': 1, 'подробная': 1, 'информация': 1, 'выборе': 1, 'настройке': 1, 'кодеков': 1, 'примерах': 1, 'использования': 1, 'консольных': 1, 'утилит': 1, 'vpxenc': 1, 'mkvmerge': 1, 'неочевидные': 1, 'моменты—': 1, 'libvorbis': 1, 'указании': 1, 'b': 1, 'режиме': 1, 'cbr': 1, 'постоянный': 1, 'битрейт': 1, 'портит': 1, 'режима': 1, 'вместо': 1, 'надо': 1, 'указывать': 1, 'q': 1, 'параметр': 1, 'on': 1, 'только': 1, 'ки': 1, 'включать': 1, 'софтсаб': 1, 'формате': 1, 'webvtt': 1, 'делает': 1, 'умолчанию': 1, 'наличии': 1, 'сабов': 1, 'контейнере': 1, 'отключается': 1, 'параметром': 1, 'sn': 1, 'во-первых': 1, 'бесполезно': 1, 'отображения': 1, 'странице': 1, 'должен': 1, 'быть': 1, 'специальный': 1, 'код': 1, 'во-вторых': 1, 'от': 1, 'ролики': 1, 'воспроизводятся': 1, 'программы': 1, 'их': 1, 'документация': 1, 'фронтенды': 1, 'к': 1, 'кодирования': 1, 'вебмок': 1, 'cli': 1, 'бидон': 1, 'zsh': 1, 'оп-паста': 1, 'посоны': 1, 'поделитесь': 1, 'ссылкой': 1, 'ютуб-версию': 1, 'шебм': 1, 'побольше': 1, 'тебе': 1, 'стандопавера': 1, 'бро': 1, 'перекатился': 1, 'благословил': 1, 'у': 1, 'меня': 1, 'нофап': 1, 'мне': 1, 'туда': 1, 'даже': 1, 'заходить': 1, 'нельзя': 1, 'ты': 1, 'зачем': 1, 'мой': 1, 'пост': 1, 'украл': 1})\n"
     ]
    }
   ],
   "source": [
    "print(unigrams_dvach)"
   ]
  },
  {
   "cell_type": "code",
   "execution_count": 20,
   "id": "cd234a9b",
   "metadata": {},
   "outputs": [
    {
     "data": {
      "text/plain": [
       "[('в firefox', 2),\n",
       " ('<start> анимублядский', 1),\n",
       " ('анимублядский webm-треддля', 1),\n",
       " ('webm-треддля приличных', 1),\n",
       " ('приличных анимублядей', 1),\n",
       " ('анимублядей и', 1),\n",
       " ('и прочих', 1),\n",
       " ('прочих аутистов', 1),\n",
       " ('аутистов <end>', 1),\n",
       " ('<start> безграмотное', 1)]"
      ]
     },
     "execution_count": 20,
     "metadata": {},
     "output_type": "execute_result"
    }
   ],
   "source": [
    "bigrams_dvach.most_common(10)"
   ]
  },
  {
   "cell_type": "code",
   "execution_count": 21,
   "id": "5c006188",
   "metadata": {},
   "outputs": [],
   "source": [
    "phrase = 'Безграмотное быдло с дубляжом, войсовером, порнографией и котикам'\n",
    "prob = Counter()\n",
    "for ngram in ngrammer(['<start>'] + normalize(phrase) + ['<end>']):\n",
    "    word1, word2 = ngram.split()\n",
    "    \n",
    "    if word1 in unigrams_dvach and ngram in bigrams_dvach:\n",
    "        prob['dvach'] += np.log(bigrams_dvach[ngram]/unigrams_dvach[word1])\n",
    "    else:\n",
    "        prob['dvach'] += np.log(2e-7)\n",
    "    \n",
    "    if word1 in unigrams_news and ngram in bigrams_news:\n",
    "        prob['news'] += np.log(bigrams_news[ngram]/unigrams_news[word1])\n",
    "    else:\n",
    "        prob['news'] += np.log(2e-7)"
   ]
  },
  {
   "cell_type": "code",
   "execution_count": 22,
   "id": "a8417930",
   "metadata": {},
   "outputs": [
    {
     "data": {
      "text/plain": [
       "[('dvach', -34.34640450226323), ('news', -138.82453623358538)]"
      ]
     },
     "execution_count": 22,
     "metadata": {},
     "output_type": "execute_result"
    }
   ],
   "source": [
    "prob.most_common()"
   ]
  },
  {
   "cell_type": "code",
   "execution_count": 23,
   "id": "694bca7e",
   "metadata": {},
   "outputs": [
    {
     "data": {
      "text/plain": [
       "'C:\\\\Users\\\\123ha\\\\anaconda3\\\\python.exe'"
      ]
     },
     "execution_count": 23,
     "metadata": {},
     "output_type": "execute_result"
    }
   ],
   "source": [
    "import sys\n",
    "sys.executable"
   ]
  },
  {
   "cell_type": "code",
   "execution_count": 24,
   "id": "ff51d8fd",
   "metadata": {},
   "outputs": [],
   "source": [
    "\n",
    "matrix_dvach = np.zeros((len(unigrams_dvach), \n",
    "                   len(unigrams_dvach)), dtype=int)\n"
   ]
  },
  {
   "cell_type": "code",
   "execution_count": 67,
   "id": "035c605c",
   "metadata": {},
   "outputs": [
    {
     "name": "stdout",
     "output_type": "stream",
     "text": [
      "Counter({'<start>what': 1, 'what': 1})\n",
      "Counter({'<start>what what': 1})\n"
     ]
    }
   ],
   "source": [
    "##MATRICES\n",
    "unigrams_dvach =['<start>''what', 'what']\n",
    "#unigrams_dvach =['<start>','this', 'is', 'this', 'is''good', '<start>','this', 'is', 'bad', 'this', 'is','bad']\n",
    "unigrams = Counter()\n",
    "bigrams = Counter()\n",
    "unigrams.update(unigrams_dvach)\n",
    "bigrams.update(ngrammer(unigrams_dvach))\n",
    "print(unigrams)\n",
    "print(bigrams)\n",
    "    \n",
    "def ngrammer(tokens, n=2):\n",
    "    ngrams = []\n",
    "    for i in range(0,len(tokens)-n+1):\n",
    "        ngrams.append(' '.join(tokens[i:i+n]))\n",
    "    return ngrams"
   ]
  },
  {
   "cell_type": "code",
   "execution_count": 68,
   "id": "b7434051",
   "metadata": {},
   "outputs": [
    {
     "name": "stdout",
     "output_type": "stream",
     "text": [
      "[[0. 0.]\n",
      " [0. 0.]]\n",
      "['<start>what', 'what']\n",
      "{'<start>what': 0, 'what': 1}\n"
     ]
    }
   ],
   "source": [
    "matrix_dvach = np.zeros((len(unigrams_dvach), \n",
    "                   len(unigrams_dvach)))\n",
    "print(matrix_dvach)\n",
    "id2word_dvach = list(unigrams)\n",
    "print(id2word_dvach)\n",
    "word2id_dvach = {word:i for i, word in enumerate(unigrams)}\n",
    "print(word2id_dvach)"
   ]
  },
  {
   "cell_type": "code",
   "execution_count": 69,
   "id": "a421946a",
   "metadata": {
    "scrolled": true
   },
   "outputs": [
    {
     "name": "stdout",
     "output_type": "stream",
     "text": [
      "<start>what what\n"
     ]
    }
   ],
   "source": [
    "for ngram in bigrams:\n",
    "    word1, word2 = ngram.split()\n",
    "    print(word1, word2)\n",
    "    matrix_dvach[word2id_dvach[word1]][word2id_dvach[word2]] = (bigrams[ngram]/\n",
    "                                                                unigrams[word1])\n",
    "    #matrix_dvach[word2id_dvach[word1]][word2id_dvach[word2]] =  (bigrams[ngram]/\n",
    "     #                                                           unigrams[word1])"
   ]
  },
  {
   "cell_type": "code",
   "execution_count": 70,
   "id": "443f5916",
   "metadata": {
    "scrolled": true
   },
   "outputs": [
    {
     "name": "stdout",
     "output_type": "stream",
     "text": [
      "[[0. 1.]\n",
      " [0. 0.]]\n"
     ]
    }
   ],
   "source": [
    "print(matrix_dvach)"
   ]
  },
  {
   "cell_type": "code",
   "execution_count": 71,
   "id": "31752796",
   "metadata": {},
   "outputs": [],
   "source": [
    "def generate(matrix, id2word, word2id, n=100, start='<start>'):\n",
    "    text = []\n",
    "    current_idx = word2id[start]\n",
    "    \n",
    "    for i in range(n):\n",
    "        \n",
    "        chosen = np.random.choice(matrix.shape[1], p=matrix[current_idx])\n",
    "        text.append(id2word[chosen])\n",
    "        \n",
    "        if id2word[chosen] == '<end>':\n",
    "            chosen = word2id['<start>']\n",
    "        current_idx = chosen\n",
    "    \n",
    "    return ' '.join(text)"
   ]
  },
  {
   "cell_type": "code",
   "execution_count": 72,
   "id": "b68c1709",
   "metadata": {},
   "outputs": [
    {
     "ename": "KeyError",
     "evalue": "'<start>'",
     "output_type": "error",
     "traceback": [
      "\u001b[1;31m---------------------------------------------------------------------------\u001b[0m",
      "\u001b[1;31mKeyError\u001b[0m                                  Traceback (most recent call last)",
      "\u001b[1;32m~\\AppData\\Local\\Temp/ipykernel_12644/3047114506.py\u001b[0m in \u001b[0;36m<module>\u001b[1;34m\u001b[0m\n\u001b[1;32m----> 1\u001b[1;33m \u001b[0mprint\u001b[0m\u001b[1;33m(\u001b[0m\u001b[0mgenerate\u001b[0m\u001b[1;33m(\u001b[0m\u001b[0mmatrix_dvach\u001b[0m\u001b[1;33m,\u001b[0m \u001b[0mid2word_dvach\u001b[0m\u001b[1;33m,\u001b[0m \u001b[0mword2id_dvach\u001b[0m\u001b[1;33m)\u001b[0m\u001b[1;33m.\u001b[0m\u001b[0mreplace\u001b[0m\u001b[1;33m(\u001b[0m\u001b[1;34m'<end>'\u001b[0m\u001b[1;33m,\u001b[0m \u001b[1;34m'\\n'\u001b[0m\u001b[1;33m)\u001b[0m\u001b[1;33m)\u001b[0m\u001b[1;33m\u001b[0m\u001b[1;33m\u001b[0m\u001b[0m\n\u001b[0m",
      "\u001b[1;32m~\\AppData\\Local\\Temp/ipykernel_12644/1221059690.py\u001b[0m in \u001b[0;36mgenerate\u001b[1;34m(matrix, id2word, word2id, n, start)\u001b[0m\n\u001b[0;32m      1\u001b[0m \u001b[1;32mdef\u001b[0m \u001b[0mgenerate\u001b[0m\u001b[1;33m(\u001b[0m\u001b[0mmatrix\u001b[0m\u001b[1;33m,\u001b[0m \u001b[0mid2word\u001b[0m\u001b[1;33m,\u001b[0m \u001b[0mword2id\u001b[0m\u001b[1;33m,\u001b[0m \u001b[0mn\u001b[0m\u001b[1;33m=\u001b[0m\u001b[1;36m100\u001b[0m\u001b[1;33m,\u001b[0m \u001b[0mstart\u001b[0m\u001b[1;33m=\u001b[0m\u001b[1;34m'<start>'\u001b[0m\u001b[1;33m)\u001b[0m\u001b[1;33m:\u001b[0m\u001b[1;33m\u001b[0m\u001b[1;33m\u001b[0m\u001b[0m\n\u001b[0;32m      2\u001b[0m     \u001b[0mtext\u001b[0m \u001b[1;33m=\u001b[0m \u001b[1;33m[\u001b[0m\u001b[1;33m]\u001b[0m\u001b[1;33m\u001b[0m\u001b[1;33m\u001b[0m\u001b[0m\n\u001b[1;32m----> 3\u001b[1;33m     \u001b[0mcurrent_idx\u001b[0m \u001b[1;33m=\u001b[0m \u001b[0mword2id\u001b[0m\u001b[1;33m[\u001b[0m\u001b[0mstart\u001b[0m\u001b[1;33m]\u001b[0m\u001b[1;33m\u001b[0m\u001b[1;33m\u001b[0m\u001b[0m\n\u001b[0m\u001b[0;32m      4\u001b[0m \u001b[1;33m\u001b[0m\u001b[0m\n\u001b[0;32m      5\u001b[0m     \u001b[1;32mfor\u001b[0m \u001b[0mi\u001b[0m \u001b[1;32min\u001b[0m \u001b[0mrange\u001b[0m\u001b[1;33m(\u001b[0m\u001b[0mn\u001b[0m\u001b[1;33m)\u001b[0m\u001b[1;33m:\u001b[0m\u001b[1;33m\u001b[0m\u001b[1;33m\u001b[0m\u001b[0m\n",
      "\u001b[1;31mKeyError\u001b[0m: '<start>'"
     ]
    }
   ],
   "source": [
    "print(generate(matrix_dvach, id2word_dvach, word2id_dvach).replace('<end>', '\\n'))"
   ]
  },
  {
   "cell_type": "code",
   "execution_count": null,
   "id": "e459c11f",
   "metadata": {},
   "outputs": [],
   "source": []
  }
 ],
 "metadata": {
  "kernelspec": {
   "display_name": "Python 3 (ipykernel)",
   "language": "python",
   "name": "python3"
  },
  "language_info": {
   "codemirror_mode": {
    "name": "ipython",
    "version": 3
   },
   "file_extension": ".py",
   "mimetype": "text/x-python",
   "name": "python",
   "nbconvert_exporter": "python",
   "pygments_lexer": "ipython3",
   "version": "3.9.7"
  }
 },
 "nbformat": 4,
 "nbformat_minor": 5
}
